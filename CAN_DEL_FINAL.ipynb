{
 "cells": [
  {
   "cell_type": "code",
   "execution_count": 2,
   "metadata": {
    "collapsed": false
   },
   "outputs": [],
   "source": [
    "#IMPORTING LIBRARIES\n",
    "import pandas as pd\n",
    "import numpy as np\n",
    "import seaborn as sns\n",
    "import matplotlib.pyplot as plt\n",
    "from sklearn import metrics\n",
    "sns.set(style=\"whitegrid\")\n",
    "%matplotlib inline"
   ]
  },
  {
   "cell_type": "code",
   "execution_count": 3,
   "metadata": {
    "collapsed": false
   },
   "outputs": [
    {
     "name": "stderr",
     "output_type": "stream",
     "text": [
      "C:\\Users\\Taylor\\Anaconda2\\lib\\site-packages\\IPython\\core\\interactiveshell.py:2717: DtypeWarning: Columns (7,8) have mixed types. Specify dtype option on import or set low_memory=False.\n",
      "  interactivity=interactivity, compiler=compiler, result=result)\n"
     ]
    }
   ],
   "source": [
    "#IMPORTING .CSV FILES\n",
    "airlines = pd.read_csv(\"C:\\Users\\Taylor\\Desktop/flight-delays1/airlines.csv\")\n",
    "airports = pd.read_csv(\"C:\\Users\\Taylor\\Desktop/flight-delays1/airports.csv\")\n",
    "flights = pd.read_csv(\"C:\\Users\\Taylor\\Desktop/flight-delays1/flights.csv\")"
   ]
  },
  {
   "cell_type": "code",
   "execution_count": 4,
   "metadata": {
    "collapsed": false
   },
   "outputs": [
    {
     "data": {
      "text/plain": [
       "(5819079, 31)"
      ]
     },
     "execution_count": 4,
     "metadata": {},
     "output_type": "execute_result"
    }
   ],
   "source": [
    "flights.shape"
   ]
  },
  {
   "cell_type": "code",
   "execution_count": 3,
   "metadata": {
    "collapsed": true
   },
   "outputs": [],
   "source": [
    "#CREATING DUMMY VARIABLES FOR AIRLINES AND MONTHS\n",
    "dummy_airline = pd.get_dummies(flights['AIRLINE'])\n",
    "flights = pd.concat([flights, dummy_airline], axis=1)\n",
    "\n",
    "dummy_dates = pd.get_dummies(flights['MONTH'])\n",
    "flights = pd.concat([flights, dummy_dates], axis=1)"
   ]
  },
  {
   "cell_type": "code",
   "execution_count": 4,
   "metadata": {
    "collapsed": false
   },
   "outputs": [
    {
     "data": {
      "text/plain": [
       "Index([               u'YEAR',               u'MONTH',                 u'DAY',\n",
       "               u'DAY_OF_WEEK',             u'AIRLINE',       u'FLIGHT_NUMBER',\n",
       "               u'TAIL_NUMBER',      u'ORIGIN_AIRPORT', u'DESTINATION_AIRPORT',\n",
       "       u'SCHEDULED_DEPARTURE',      u'DEPARTURE_TIME',     u'DEPARTURE_DELAY',\n",
       "                  u'TAXI_OUT',          u'WHEELS_OFF',      u'SCHEDULED_TIME',\n",
       "              u'ELAPSED_TIME',            u'AIR_TIME',            u'DISTANCE',\n",
       "                 u'WHEELS_ON',             u'TAXI_IN',   u'SCHEDULED_ARRIVAL',\n",
       "              u'ARRIVAL_TIME',       u'ARRIVAL_DELAY',            u'DIVERTED',\n",
       "                 u'CANCELLED', u'CANCELLATION_REASON',    u'AIR_SYSTEM_DELAY',\n",
       "            u'SECURITY_DELAY',       u'AIRLINE_DELAY', u'LATE_AIRCRAFT_DELAY',\n",
       "             u'WEATHER_DELAY',                  u'AA',                  u'AS',\n",
       "                        u'B6',                  u'DL',                  u'EV',\n",
       "                        u'F9',                  u'HA',                  u'MQ',\n",
       "                        u'NK',                  u'OO',                  u'UA',\n",
       "                        u'US',                  u'VX',                  u'WN',\n",
       "                            1,                      2,                      3,\n",
       "                            4,                      5,                      6,\n",
       "                            7,                      8,                      9,\n",
       "                           10,                     11,                     12],\n",
       "      dtype='object')"
      ]
     },
     "execution_count": 4,
     "metadata": {},
     "output_type": "execute_result"
    }
   ],
   "source": [
    "flights.columns"
   ]
  },
  {
   "cell_type": "code",
   "execution_count": 5,
   "metadata": {
    "collapsed": false
   },
   "outputs": [
    {
     "data": {
      "text/plain": [
       "LogisticRegression(C=1.0, class_weight=None, dual=False, fit_intercept=True,\n",
       "          intercept_scaling=1, max_iter=100, multi_class='ovr', n_jobs=1,\n",
       "          penalty='l2', random_state=None, solver='liblinear', tol=0.0001,\n",
       "          verbose=0, warm_start=False)"
      ]
     },
     "execution_count": 5,
     "metadata": {},
     "output_type": "execute_result"
    }
   ],
   "source": [
    "#IMPORTING LOGISTIC REGRESSION AND CREATING VARIABLE FOR LOGISTIC REGRESSION\n",
    "from sklearn.linear_model import LogisticRegression\n",
    "logreg = LogisticRegression()\n",
    "logreg"
   ]
  },
  {
   "cell_type": "code",
   "execution_count": 6,
   "metadata": {
    "collapsed": false
   },
   "outputs": [
    {
     "data": {
      "text/plain": [
       "1063439"
      ]
     },
     "execution_count": 6,
     "metadata": {},
     "output_type": "execute_result"
    }
   ],
   "source": [
    "#WANT TO PREDICT IF A FLIGHT IS CANCELLED OR IF IT IS DELAYED.\n",
    "#FLIGHT IS CONSIDERED LATE IF IT ARRIVES AT GATE 15 MINUTES AFTER ITS SCHEDULED TIME OF ARRIVAL\n",
    "flights['DELAYED_15'] = np.where(flights['ARRIVAL_DELAY'] >= 15, 1, 0)\n",
    "flights.DELAYED_15[flights.DELAYED_15 == 1].count()"
   ]
  },
  {
   "cell_type": "code",
   "execution_count": 7,
   "metadata": {
    "collapsed": true
   },
   "outputs": [],
   "source": [
    "#WANT TO ADD A COLUMN THAT INCLUDES WHETHER A FLIGHT WAS CANCELLED OR DELAYED PAST 15 MINUTES\n",
    "#CAN DO THIS BY CREATING A LOOP THAT FINDS THIS:\n",
    "def cancdel(row):\n",
    "    if row['CANCELLED'] == 1 or row['DELAYED_15'] == 1:\n",
    "        val = 1\n",
    "    else:\n",
    "        val = 0\n",
    "    return val"
   ]
  },
  {
   "cell_type": "code",
   "execution_count": 8,
   "metadata": {
    "collapsed": false
   },
   "outputs": [
    {
     "name": "stderr",
     "output_type": "stream",
     "text": [
      "C:\\Users\\Taylor\\Anaconda2\\lib\\site-packages\\ipykernel\\__main__.py:3: SettingWithCopyWarning: \n",
      "A value is trying to be set on a copy of a slice from a DataFrame.\n",
      "Try using .loc[row_indexer,col_indexer] = value instead\n",
      "\n",
      "See the caveats in the documentation: http://pandas.pydata.org/pandas-docs/stable/indexing.html#indexing-view-versus-copy\n",
      "  app.launch_new_instance()\n"
     ]
    }
   ],
   "source": [
    "#CREATE A NEW DATAFRAME BECAUSE OF POTENTIAL MEMORY ERROR\n",
    "flights_main = flights[['CANCELLED', 'DELAYED_15']]\n",
    "flights_main['can_del'] = flights_main.apply(cancdel, axis = 1)"
   ]
  },
  {
   "cell_type": "code",
   "execution_count": 9,
   "metadata": {
    "collapsed": false
   },
   "outputs": [
    {
     "name": "stdout",
     "output_type": "stream",
     "text": [
      "89884\n",
      "1063439\n",
      "1153323\n"
     ]
    }
   ],
   "source": [
    "#CHECK IF CANCELLED + DELAYED = CAN_DEL\n",
    "print flights_main.CANCELLED[flights_main.CANCELLED == 1].count()\n",
    "print flights_main.DELAYED_15[flights_main.DELAYED_15 == 1].count()\n",
    "print flights_main.can_del[flights_main.can_del == 1].count()"
   ]
  },
  {
   "cell_type": "code",
   "execution_count": 10,
   "metadata": {
    "collapsed": true
   },
   "outputs": [],
   "source": [
    "#SAVE THIS COLUMN INTO FLIGHTS ORIGINAL DATAFRAME\n",
    "flights['CAN_DEL'] = flights_main['can_del']"
   ]
  },
  {
   "cell_type": "code",
   "execution_count": 11,
   "metadata": {
    "collapsed": false
   },
   "outputs": [
    {
     "data": {
      "text/html": [
       "<div>\n",
       "<table border=\"1\" class=\"dataframe\">\n",
       "  <thead>\n",
       "    <tr style=\"text-align: right;\">\n",
       "      <th></th>\n",
       "      <th>YEAR</th>\n",
       "      <th>MONTH</th>\n",
       "      <th>DAY</th>\n",
       "      <th>DAY_OF_WEEK</th>\n",
       "      <th>AIRLINE</th>\n",
       "      <th>FLIGHT_NUMBER</th>\n",
       "      <th>TAIL_NUMBER</th>\n",
       "      <th>ORIGIN_AIRPORT</th>\n",
       "      <th>DESTINATION_AIRPORT</th>\n",
       "      <th>SCHEDULED_DEPARTURE</th>\n",
       "      <th>...</th>\n",
       "      <th>5</th>\n",
       "      <th>6</th>\n",
       "      <th>7</th>\n",
       "      <th>8</th>\n",
       "      <th>9</th>\n",
       "      <th>10</th>\n",
       "      <th>11</th>\n",
       "      <th>12</th>\n",
       "      <th>DELAYED_15</th>\n",
       "      <th>CAN_DEL</th>\n",
       "    </tr>\n",
       "  </thead>\n",
       "  <tbody>\n",
       "    <tr>\n",
       "      <th>0</th>\n",
       "      <td>2015</td>\n",
       "      <td>1</td>\n",
       "      <td>1</td>\n",
       "      <td>4</td>\n",
       "      <td>AS</td>\n",
       "      <td>98</td>\n",
       "      <td>N407AS</td>\n",
       "      <td>ANC</td>\n",
       "      <td>SEA</td>\n",
       "      <td>5</td>\n",
       "      <td>...</td>\n",
       "      <td>0</td>\n",
       "      <td>0</td>\n",
       "      <td>0</td>\n",
       "      <td>0</td>\n",
       "      <td>0</td>\n",
       "      <td>0</td>\n",
       "      <td>0</td>\n",
       "      <td>0</td>\n",
       "      <td>0</td>\n",
       "      <td>0</td>\n",
       "    </tr>\n",
       "    <tr>\n",
       "      <th>1</th>\n",
       "      <td>2015</td>\n",
       "      <td>1</td>\n",
       "      <td>1</td>\n",
       "      <td>4</td>\n",
       "      <td>AA</td>\n",
       "      <td>2336</td>\n",
       "      <td>N3KUAA</td>\n",
       "      <td>LAX</td>\n",
       "      <td>PBI</td>\n",
       "      <td>10</td>\n",
       "      <td>...</td>\n",
       "      <td>0</td>\n",
       "      <td>0</td>\n",
       "      <td>0</td>\n",
       "      <td>0</td>\n",
       "      <td>0</td>\n",
       "      <td>0</td>\n",
       "      <td>0</td>\n",
       "      <td>0</td>\n",
       "      <td>0</td>\n",
       "      <td>0</td>\n",
       "    </tr>\n",
       "    <tr>\n",
       "      <th>2</th>\n",
       "      <td>2015</td>\n",
       "      <td>1</td>\n",
       "      <td>1</td>\n",
       "      <td>4</td>\n",
       "      <td>US</td>\n",
       "      <td>840</td>\n",
       "      <td>N171US</td>\n",
       "      <td>SFO</td>\n",
       "      <td>CLT</td>\n",
       "      <td>20</td>\n",
       "      <td>...</td>\n",
       "      <td>0</td>\n",
       "      <td>0</td>\n",
       "      <td>0</td>\n",
       "      <td>0</td>\n",
       "      <td>0</td>\n",
       "      <td>0</td>\n",
       "      <td>0</td>\n",
       "      <td>0</td>\n",
       "      <td>0</td>\n",
       "      <td>0</td>\n",
       "    </tr>\n",
       "    <tr>\n",
       "      <th>3</th>\n",
       "      <td>2015</td>\n",
       "      <td>1</td>\n",
       "      <td>1</td>\n",
       "      <td>4</td>\n",
       "      <td>AA</td>\n",
       "      <td>258</td>\n",
       "      <td>N3HYAA</td>\n",
       "      <td>LAX</td>\n",
       "      <td>MIA</td>\n",
       "      <td>20</td>\n",
       "      <td>...</td>\n",
       "      <td>0</td>\n",
       "      <td>0</td>\n",
       "      <td>0</td>\n",
       "      <td>0</td>\n",
       "      <td>0</td>\n",
       "      <td>0</td>\n",
       "      <td>0</td>\n",
       "      <td>0</td>\n",
       "      <td>0</td>\n",
       "      <td>0</td>\n",
       "    </tr>\n",
       "    <tr>\n",
       "      <th>4</th>\n",
       "      <td>2015</td>\n",
       "      <td>1</td>\n",
       "      <td>1</td>\n",
       "      <td>4</td>\n",
       "      <td>AS</td>\n",
       "      <td>135</td>\n",
       "      <td>N527AS</td>\n",
       "      <td>SEA</td>\n",
       "      <td>ANC</td>\n",
       "      <td>25</td>\n",
       "      <td>...</td>\n",
       "      <td>0</td>\n",
       "      <td>0</td>\n",
       "      <td>0</td>\n",
       "      <td>0</td>\n",
       "      <td>0</td>\n",
       "      <td>0</td>\n",
       "      <td>0</td>\n",
       "      <td>0</td>\n",
       "      <td>0</td>\n",
       "      <td>0</td>\n",
       "    </tr>\n",
       "  </tbody>\n",
       "</table>\n",
       "<p>5 rows × 59 columns</p>\n",
       "</div>"
      ],
      "text/plain": [
       "   YEAR  MONTH  DAY  DAY_OF_WEEK AIRLINE  FLIGHT_NUMBER TAIL_NUMBER  \\\n",
       "0  2015      1    1            4      AS             98      N407AS   \n",
       "1  2015      1    1            4      AA           2336      N3KUAA   \n",
       "2  2015      1    1            4      US            840      N171US   \n",
       "3  2015      1    1            4      AA            258      N3HYAA   \n",
       "4  2015      1    1            4      AS            135      N527AS   \n",
       "\n",
       "  ORIGIN_AIRPORT DESTINATION_AIRPORT  SCHEDULED_DEPARTURE   ...     5  6  7  \\\n",
       "0            ANC                 SEA                    5   ...     0  0  0   \n",
       "1            LAX                 PBI                   10   ...     0  0  0   \n",
       "2            SFO                 CLT                   20   ...     0  0  0   \n",
       "3            LAX                 MIA                   20   ...     0  0  0   \n",
       "4            SEA                 ANC                   25   ...     0  0  0   \n",
       "\n",
       "   8  9  10  11  12  DELAYED_15  CAN_DEL  \n",
       "0  0  0   0   0   0           0        0  \n",
       "1  0  0   0   0   0           0        0  \n",
       "2  0  0   0   0   0           0        0  \n",
       "3  0  0   0   0   0           0        0  \n",
       "4  0  0   0   0   0           0        0  \n",
       "\n",
       "[5 rows x 59 columns]"
      ]
     },
     "execution_count": 11,
     "metadata": {},
     "output_type": "execute_result"
    }
   ],
   "source": [
    "flights.head()"
   ]
  },
  {
   "cell_type": "code",
   "execution_count": 12,
   "metadata": {
    "collapsed": false
   },
   "outputs": [
    {
     "name": "stdout",
     "output_type": "stream",
     "text": [
      "Index([u'AA', u'AS', u'B6', u'DL', u'EV', u'F9', u'HA', u'MQ', u'NK', u'OO',\n",
      "       u'UA', u'US', u'VX', u'WN'],\n",
      "      dtype='object')\n",
      "Index([1, 2, 3, 4, 5, 6, 7, 8, 9, 10, 11, 12], dtype='object')\n"
     ]
    }
   ],
   "source": [
    "#FIND COLUMNS FOR DUMMY VARIABLES FOR AIRLINES AND MONTHS\n",
    "print flights.columns[31:45]\n",
    "print flights.columns[45:57]"
   ]
  },
  {
   "cell_type": "code",
   "execution_count": 13,
   "metadata": {
    "collapsed": false
   },
   "outputs": [
    {
     "name": "stderr",
     "output_type": "stream",
     "text": [
      "C:\\Users\\Taylor\\Anaconda2\\lib\\site-packages\\sklearn\\cross_validation.py:44: DeprecationWarning: This module was deprecated in version 0.18 in favor of the model_selection module into which all the refactored classes and functions are moved. Also note that the interface of the new CV iterators are different from that of this module. This module will be removed in 0.20.\n",
      "  \"This module will be removed in 0.20.\", DeprecationWarning)\n"
     ]
    },
    {
     "name": "stdout",
     "output_type": "stream",
     "text": [
      "(5819079, 27) (5819079L,)\n",
      "Null Accuracy:  0.801803171945\n",
      "Accuracy:  0.801642183988\n",
      "Recall:  0.0\n",
      "[[1166205       0]\n",
      " [ 288565       0]]\n"
     ]
    }
   ],
   "source": [
    "#ACCURACY OF MODEL IS ABOUT THE SAME AS NULL ACCURACY\n",
    "#RECALL OF THE MODEL IS ALWAYS PREDICTING A FLIGHT WITHOUT CANCELLATION OR DELAY\n",
    "from sklearn.cross_validation import train_test_split\n",
    "feature_cols = ['SCHEDULED_DEPARTURE'] + list(flights.columns[31:45]) + list(flights.columns[45:57])\n",
    "X = flights[feature_cols]\n",
    "y = flights.CAN_DEL\n",
    "print X.shape, y.shape\n",
    "X_train, X_test, y_train, y_test = train_test_split(X, y, random_state=1)\n",
    "logreg.fit(X_train,y_train)    \n",
    "y_pred_class = logreg.predict(X_test)\n",
    "print \"Null Accuracy: \", float(y.value_counts()[0])/len(y)\n",
    "print \"Accuracy: \", metrics.accuracy_score(y_test, y_pred_class)\n",
    "print \"Recall: \", metrics.recall_score(y_test, y_pred_class)\n",
    "print metrics.confusion_matrix(y_test, y_pred_class)"
   ]
  },
  {
   "cell_type": "code",
   "execution_count": 14,
   "metadata": {
    "collapsed": true
   },
   "outputs": [],
   "source": [
    "#DUE TO THE DATA SET BEING HEAVILY WEIGHTED AGAINST PREDICTING CANCELLATIONS OR DELAYS, WE CAN USE AN UNDERSAMPLING TECHNIQUE\n",
    "#BALANCE THE DATA SO THAT THERE IS AN EQUAL NUMBER OF CAN_DEL = 0 AND CAN_DEL = 1\n",
    "flights_original = flights\n",
    "sample_size = sum(flights_original.CAN_DEL == 1)\n",
    "CAN_DEL_indices = flights_original[flights_original.CAN_DEL == 1].index\n",
    "nonCAN_DEL_indices = flights_original[flights_original.CAN_DEL == 0].index\n",
    "random_indices = np.random.choice(nonCAN_DEL_indices, sample_size, replace=False)"
   ]
  },
  {
   "cell_type": "code",
   "execution_count": 15,
   "metadata": {
    "collapsed": false
   },
   "outputs": [
    {
     "name": "stdout",
     "output_type": "stream",
     "text": [
      "# of on time flights before under sampling:  (5819079, 59)\n",
      "# of cancelled/delayed flights:  1153323\n",
      "# of on time flights after under sampling:  (1153323, 59)\n"
     ]
    }
   ],
   "source": [
    "#TEST WHETHER OR NOT CAN_DEL = 0 AND CAN_DEL ARE EQUAL\n",
    "print \"# of on time flights before under sampling: \", flights_original.shape\n",
    "print \"# of cancelled/delayed flights: \", len(CAN_DEL_indices)\n",
    "flights_samp = flights_original.loc[random_indices]\n",
    "flights_ones = flights_original.loc[CAN_DEL_indices]\n",
    "print \"# of on time flights after under sampling: \", flights_samp.shape"
   ]
  },
  {
   "cell_type": "code",
   "execution_count": 16,
   "metadata": {
    "collapsed": false
   },
   "outputs": [],
   "source": [
    "#APPEND CAN_DEL = 0 AND CAN_DEL = 1 INTO ONE DATAFRAME\n",
    "flights_ones = flights_ones.append(flights_samp)"
   ]
  },
  {
   "cell_type": "code",
   "execution_count": 17,
   "metadata": {
    "collapsed": false
   },
   "outputs": [
    {
     "name": "stdout",
     "output_type": "stream",
     "text": [
      "1    1153323\n",
      "0    1153323\n",
      "Name: CAN_DEL, dtype: int64\n"
     ]
    }
   ],
   "source": [
    "#CHECK TO SEE THAT NEW DATAFRAME HAS CORRECT COUNTS OF CAN_DEL\n",
    "flights_ones.shape\n",
    "print flights_ones.CAN_DEL.value_counts()"
   ]
  },
  {
   "cell_type": "code",
   "execution_count": 18,
   "metadata": {
    "collapsed": false
   },
   "outputs": [
    {
     "data": {
      "text/html": [
       "<div>\n",
       "<table border=\"1\" class=\"dataframe\">\n",
       "  <thead>\n",
       "    <tr style=\"text-align: right;\">\n",
       "      <th></th>\n",
       "      <th>YEAR</th>\n",
       "      <th>MONTH</th>\n",
       "      <th>DAY</th>\n",
       "      <th>DAY_OF_WEEK</th>\n",
       "      <th>AIRLINE</th>\n",
       "      <th>FLIGHT_NUMBER</th>\n",
       "      <th>TAIL_NUMBER</th>\n",
       "      <th>ORIGIN_AIRPORT</th>\n",
       "      <th>DESTINATION_AIRPORT</th>\n",
       "      <th>SCHEDULED_DEPARTURE</th>\n",
       "      <th>...</th>\n",
       "      <th>5</th>\n",
       "      <th>6</th>\n",
       "      <th>7</th>\n",
       "      <th>8</th>\n",
       "      <th>9</th>\n",
       "      <th>10</th>\n",
       "      <th>11</th>\n",
       "      <th>12</th>\n",
       "      <th>DELAYED_15</th>\n",
       "      <th>CAN_DEL</th>\n",
       "    </tr>\n",
       "  </thead>\n",
       "  <tbody>\n",
       "    <tr>\n",
       "      <th>27</th>\n",
       "      <td>2015</td>\n",
       "      <td>1</td>\n",
       "      <td>1</td>\n",
       "      <td>4</td>\n",
       "      <td>NK</td>\n",
       "      <td>597</td>\n",
       "      <td>N528NK</td>\n",
       "      <td>MSP</td>\n",
       "      <td>FLL</td>\n",
       "      <td>115</td>\n",
       "      <td>...</td>\n",
       "      <td>0</td>\n",
       "      <td>0</td>\n",
       "      <td>0</td>\n",
       "      <td>0</td>\n",
       "      <td>0</td>\n",
       "      <td>0</td>\n",
       "      <td>0</td>\n",
       "      <td>0</td>\n",
       "      <td>1</td>\n",
       "      <td>1</td>\n",
       "    </tr>\n",
       "    <tr>\n",
       "      <th>30</th>\n",
       "      <td>2015</td>\n",
       "      <td>1</td>\n",
       "      <td>1</td>\n",
       "      <td>4</td>\n",
       "      <td>NK</td>\n",
       "      <td>168</td>\n",
       "      <td>N629NK</td>\n",
       "      <td>PHX</td>\n",
       "      <td>ORD</td>\n",
       "      <td>125</td>\n",
       "      <td>...</td>\n",
       "      <td>0</td>\n",
       "      <td>0</td>\n",
       "      <td>0</td>\n",
       "      <td>0</td>\n",
       "      <td>0</td>\n",
       "      <td>0</td>\n",
       "      <td>0</td>\n",
       "      <td>0</td>\n",
       "      <td>1</td>\n",
       "      <td>1</td>\n",
       "    </tr>\n",
       "    <tr>\n",
       "      <th>32</th>\n",
       "      <td>2015</td>\n",
       "      <td>1</td>\n",
       "      <td>1</td>\n",
       "      <td>4</td>\n",
       "      <td>AS</td>\n",
       "      <td>136</td>\n",
       "      <td>N431AS</td>\n",
       "      <td>ANC</td>\n",
       "      <td>SEA</td>\n",
       "      <td>135</td>\n",
       "      <td>...</td>\n",
       "      <td>0</td>\n",
       "      <td>0</td>\n",
       "      <td>0</td>\n",
       "      <td>0</td>\n",
       "      <td>0</td>\n",
       "      <td>0</td>\n",
       "      <td>0</td>\n",
       "      <td>0</td>\n",
       "      <td>0</td>\n",
       "      <td>1</td>\n",
       "    </tr>\n",
       "    <tr>\n",
       "      <th>35</th>\n",
       "      <td>2015</td>\n",
       "      <td>1</td>\n",
       "      <td>1</td>\n",
       "      <td>4</td>\n",
       "      <td>HA</td>\n",
       "      <td>17</td>\n",
       "      <td>N389HA</td>\n",
       "      <td>LAS</td>\n",
       "      <td>HNL</td>\n",
       "      <td>145</td>\n",
       "      <td>...</td>\n",
       "      <td>0</td>\n",
       "      <td>0</td>\n",
       "      <td>0</td>\n",
       "      <td>0</td>\n",
       "      <td>0</td>\n",
       "      <td>0</td>\n",
       "      <td>0</td>\n",
       "      <td>0</td>\n",
       "      <td>1</td>\n",
       "      <td>1</td>\n",
       "    </tr>\n",
       "    <tr>\n",
       "      <th>42</th>\n",
       "      <td>2015</td>\n",
       "      <td>1</td>\n",
       "      <td>1</td>\n",
       "      <td>4</td>\n",
       "      <td>AA</td>\n",
       "      <td>2459</td>\n",
       "      <td>N3BDAA</td>\n",
       "      <td>PHX</td>\n",
       "      <td>DFW</td>\n",
       "      <td>200</td>\n",
       "      <td>...</td>\n",
       "      <td>0</td>\n",
       "      <td>0</td>\n",
       "      <td>0</td>\n",
       "      <td>0</td>\n",
       "      <td>0</td>\n",
       "      <td>0</td>\n",
       "      <td>0</td>\n",
       "      <td>0</td>\n",
       "      <td>0</td>\n",
       "      <td>1</td>\n",
       "    </tr>\n",
       "  </tbody>\n",
       "</table>\n",
       "<p>5 rows × 59 columns</p>\n",
       "</div>"
      ],
      "text/plain": [
       "    YEAR  MONTH  DAY  DAY_OF_WEEK AIRLINE  FLIGHT_NUMBER TAIL_NUMBER  \\\n",
       "27  2015      1    1            4      NK            597      N528NK   \n",
       "30  2015      1    1            4      NK            168      N629NK   \n",
       "32  2015      1    1            4      AS            136      N431AS   \n",
       "35  2015      1    1            4      HA             17      N389HA   \n",
       "42  2015      1    1            4      AA           2459      N3BDAA   \n",
       "\n",
       "   ORIGIN_AIRPORT DESTINATION_AIRPORT  SCHEDULED_DEPARTURE   ...     5  6  7  \\\n",
       "27            MSP                 FLL                  115   ...     0  0  0   \n",
       "30            PHX                 ORD                  125   ...     0  0  0   \n",
       "32            ANC                 SEA                  135   ...     0  0  0   \n",
       "35            LAS                 HNL                  145   ...     0  0  0   \n",
       "42            PHX                 DFW                  200   ...     0  0  0   \n",
       "\n",
       "    8  9  10  11  12  DELAYED_15  CAN_DEL  \n",
       "27  0  0   0   0   0           1        1  \n",
       "30  0  0   0   0   0           1        1  \n",
       "32  0  0   0   0   0           0        1  \n",
       "35  0  0   0   0   0           1        1  \n",
       "42  0  0   0   0   0           0        1  \n",
       "\n",
       "[5 rows x 59 columns]"
      ]
     },
     "execution_count": 18,
     "metadata": {},
     "output_type": "execute_result"
    }
   ],
   "source": [
    "#CHECK TO SEE THAT NEW DATAFRAME HAS SAME COLUMNS\n",
    "flights_ones.head()"
   ]
  },
  {
   "cell_type": "code",
   "execution_count": 19,
   "metadata": {
    "collapsed": false
   },
   "outputs": [
    {
     "name": "stdout",
     "output_type": "stream",
     "text": [
      "(2306646, 27) (2306646L,)\n",
      "Null Accuracy:  0.5\n",
      "Accuracy:  0.602637246775\n",
      "Recall:  0.611800563056\n",
      "[[171276 117315]\n",
      " [111829 176242]]\n"
     ]
    }
   ],
   "source": [
    "#USE NEW DATAFRAME FOR PREDICTING ACCURACY AND RECALL\n",
    "feature_cols = ['SCHEDULED_DEPARTURE'] + list(flights_ones.columns[31:45]) + list(flights_ones.columns[45:57])\n",
    "X = flights_ones[feature_cols]\n",
    "y = flights_ones.CAN_DEL\n",
    "print X.shape, y.shape\n",
    "X_train, X_test, y_train, y_test = train_test_split(X, y, random_state=1)\n",
    "logreg.fit(X_train,y_train)    \n",
    "y_pred_class = logreg.predict(X_test)\n",
    "print \"Null Accuracy: \", float(y.value_counts()[0])/len(y)\n",
    "print \"Accuracy: \", metrics.accuracy_score(y_test, y_pred_class)\n",
    "print \"Recall: \", metrics.recall_score(y_test, y_pred_class)\n",
    "print metrics.confusion_matrix(y_test, y_pred_class)"
   ]
  },
  {
   "cell_type": "code",
   "execution_count": null,
   "metadata": {
    "collapsed": false
   },
   "outputs": [],
   "source": []
  },
  {
   "cell_type": "code",
   "execution_count": null,
   "metadata": {
    "collapsed": false
   },
   "outputs": [],
   "source": []
  },
  {
   "cell_type": "code",
   "execution_count": null,
   "metadata": {
    "collapsed": false
   },
   "outputs": [],
   "source": []
  },
  {
   "cell_type": "code",
   "execution_count": null,
   "metadata": {
    "collapsed": true
   },
   "outputs": [],
   "source": []
  }
 ],
 "metadata": {
  "kernelspec": {
   "display_name": "Python 2",
   "language": "python",
   "name": "python2"
  },
  "language_info": {
   "codemirror_mode": {
    "name": "ipython",
    "version": 2
   },
   "file_extension": ".py",
   "mimetype": "text/x-python",
   "name": "python",
   "nbconvert_exporter": "python",
   "pygments_lexer": "ipython2",
   "version": "2.7.13"
  }
 },
 "nbformat": 4,
 "nbformat_minor": 2
}
